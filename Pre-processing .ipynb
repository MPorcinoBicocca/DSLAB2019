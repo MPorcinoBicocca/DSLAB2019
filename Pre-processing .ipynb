{
 "cells": [
  {
   "cell_type": "markdown",
   "metadata": {},
   "source": [
    "## Script Python per la creazione delle tabelle per anno"
   ]
  },
  {
   "cell_type": "markdown",
   "metadata": {},
   "source": [
    "### Caricamento delle librerie"
   ]
  },
  {
   "cell_type": "code",
   "execution_count": 1,
   "metadata": {},
   "outputs": [],
   "source": [
    "#librerie generiche python\n",
    "import pandas as pd\n",
    "import numpy as np\n",
    "\n",
    "#librerie per caricamento file sdg\n",
    "import os\n",
    "from os import listdir\n",
    "from os.path import join\n",
    "\n",
    "#librerie per operazioni su tabella\n",
    "from sklearn.preprocessing import MinMaxScaler\n",
    "\n",
    "pd.set_option('max_columns', 45)"
   ]
  },
  {
   "cell_type": "markdown",
   "metadata": {},
   "source": [
    "### Lettura dei file all'interno della cartella \\data_sdg\\"
   ]
  },
  {
   "cell_type": "code",
   "execution_count": 2,
   "metadata": {},
   "outputs": [],
   "source": [
    "#lettura cartelle all'interno della cartella data\n",
    "path = os.getcwd() + \"\\\\data_sdg\\\\\"\n",
    "sdg_folder_name = [f for f in listdir(path)]\n",
    "\n",
    "#lettura dei file all'interno delle cartelle\n",
    "sdg_table_files = dict()\n",
    "for f in sdg_folder_name:\n",
    "    folder_path = join(path,f)\n",
    "    sdg_table_files[f] = [join(folder_path,t) for t in listdir(folder_path)]"
   ]
  },
  {
   "cell_type": "code",
   "execution_count": 3,
   "metadata": {},
   "outputs": [],
   "source": [
    "#definizione dei nomi degli attributi scelti per gli sdg\n",
    "sdg_1 = ['dwelling_condition','home_warm','poverty']\n",
    "sdg_4 = ['drop_rate','edu_0_2_18_24','edu_3_4_18_24','edu_5_8_18_24',\n",
    "         'edu_0_2_25_34','edu_3_4_25_34','edu_5_8_25_34',\n",
    "         'edu_pre_scuola']\n",
    "sdg_8 = ['real_gdp_pro_capite','dmc','unemployment_rate',\n",
    "         'young_people_not_employed','killed_at_work']\n",
    "sdg_9 = ['ghg_emissions','rd_expenditure','mobile_subs','fixed_telephone_subs',\n",
    "         'fixed_broadband_subs', 'internet_use']\n",
    "\n",
    "final_col_name = ['dmc', 'drop_rate', 'dwelling_condition', 'edu_0_2_18_24', 'edu_0_2_25_34', 'edu_3_4_18_24',\n",
    "                  'edu_3_4_25_34', 'edu_5_8_18_24', 'edu_5_8_25_34', 'edu_pre_scuola', 'fixed_broadband_subs', \n",
    "                  'fixed_telephone_subs', 'ghg_emissions', 'home_warm', 'internet_use', 'killed_at_work', \n",
    "                  'mobile_subs', 'poverty', 'rd_expenditure', 'real_gdp_pro_capite', 'unemployment_rate', \n",
    "                  'young_people_not_employed']\n",
    "\n",
    "#definizione delle colonne da tenere delle tabelle di partenza\n",
    "anni = ['country','2010','2011','2012','2013','2014','2015','2016']\n",
    "\n",
    "#definizione dei paesi per cui si vogliono i dati\n",
    "paesi = ['Austria','Belgium','Bulgaria','Cyprus','Czechia','Denmark','EU (28 countries)','Estonia',\n",
    "         'Finland','France','Germany','Greece','Hungary','Ireland','Italy',\n",
    "         'Latvia','Lithuania','Luxembourg','Malta','Netherlands','Poland',\n",
    "         'Portugal','Romania','Slovakia','Slovenia','Spain','Sweden','United Kingdom']\n"
   ]
  },
  {
   "cell_type": "code",
   "execution_count": 4,
   "metadata": {},
   "outputs": [],
   "source": [
    "#lettura delle tabelle con i dati per calcolare gli sdg\n",
    "sdg_tables = {}\n",
    "for sdg in sdg_table_files.keys():\n",
    "    tables = list()\n",
    "    for table in sdg_table_files[sdg]:\n",
    "        tmp = pd.read_excel(table, sheet_name = None)\n",
    "        tables.append(tmp)\n",
    "    sdg_tables[sdg] = tables "
   ]
  },
  {
   "cell_type": "markdown",
   "metadata": {},
   "source": [
    "### Eliminazione dalle tabelle di partenza degli headers e dei footers"
   ]
  },
  {
   "cell_type": "code",
   "execution_count": 39,
   "metadata": {
    "scrolled": true
   },
   "outputs": [],
   "source": [
    "'''\n",
    "Trovare inizio e fine tabella (da geo a : o nan)\n",
    "-\n",
    "'''\n",
    "\n",
    "def get_row_table_begin(table):\n",
    "    for index,row in table.iterrows():\n",
    "        if ('geo' in str(row[table.columns[0]]).lower()) or ('afghanistan' in str(row[table.columns[0]]).lower()):\n",
    "            return(index)\n",
    "        \n",
    "def get_row_table_end(table):\n",
    "    start = get_row_table_begin(table)\n",
    "    for index,row in table.iterrows():\n",
    "        if index > start:\n",
    "            if (':' in str(row[table.columns[0]]).lower()) or (pd.isnull(row[table.columns[0]])):\n",
    "                return start,index\n",
    "            elif (index == len(table.index)-1):\n",
    "                return (start -1),index\n",
    "'''\n",
    "Estrarre nomi colonne da slice tabella\n",
    "'''\n",
    "\n",
    "def get_new_columns(table):\n",
    "    new_col = ['country']\n",
    "    for year in table.iloc[0,:].values[1:]:\n",
    "        new_col.append(str(year).split('.')[0])\n",
    "    return new_col"
   ]
  },
  {
   "cell_type": "code",
   "execution_count": null,
   "metadata": {},
   "outputs": [],
   "source": [
    "'''\n",
    "Creazione nuovo dizionario con le tabelle originali tagliate\n",
    "'''\n",
    "sdg_tables_cropped = {}\n",
    "for sdg in sdg_tables:\n",
    "    tables = list()\n",
    "    for table in sdg_tables[sdg]:\n",
    "        for k in table.keys():\n",
    "            if table[k].index[1] == 'Afghanistan':\n",
    "                table_ = table[k].reset_index()\n",
    "                ini, fin = get_row_table_end(table_)\n",
    "                new_col = get_new_columns(table_.iloc[ini:fin,:])\n",
    "                tmp = table_.iloc[ini:fin,:]\n",
    "                tables.append({ k: pd.DataFrame(tmp.iloc[1:,:].values, columns = new_col)})\n",
    "            else:\n",
    "                ini, fin = get_row_table_end(table[k])\n",
    "                new_col = get_new_columns(table[k].iloc[ini:fin,:])\n",
    "                tmp = table[k].iloc[ini:fin,:]\n",
    "                tables.append({ k: pd.DataFrame(tmp.iloc[1:,:].values, columns = new_col)})\n",
    "    sdg_tables_cropped[sdg] = tables        "
   ]
  },
  {
   "cell_type": "code",
   "execution_count": 40,
   "metadata": {
    "scrolled": false
   },
   "outputs": [],
   "source": [
    "'''\n",
    "Eliminazione colonne degli anni che non interessano e delle righe dei paesi non considerati\n",
    "'''\n",
    "country_to_rename = {'European Union - 28 countries' : 'EU (28 countries)',\n",
    "                     'Germany (until 1990 former territory of the FRG)' : 'Germany',\n",
    "                     'Czech Republic' : 'Czechia'}\n",
    "\n",
    "for sdg in sdg_tables_cropped:\n",
    "    for table in sdg_tables_cropped[sdg]:\n",
    "        for k in table.keys():\n",
    "            tmp = table[k][anni] #subsetting delle colonne non utilizzate\n",
    "            tmp = tmp.sort_values('country').reset_index(drop = True)\n",
    "            for index,row in tmp.iterrows(): #correzione dei nomi in country \n",
    "                if(row['country'] in country_to_rename):\n",
    "                    tmp.loc[index,'country'] = country_to_rename[row['country']]\n",
    "            tmp = tmp[tmp.country.isin(paesi)]\n",
    "            if 'EU (28 countries)' in list(tmp['country']):\n",
    "                table[k] = tmp.sort_values('country').reset_index(drop = True)\n",
    "            else:\n",
    "                tmp = tmp.append(pd.DataFrame([['EU (28 countries)',':',':',':',':',':',':',':']], columns = anni))\n",
    "                tmp = tmp.sort_values('country').reset_index(drop = True)\n",
    "                table[k] = tmp\n"
   ]
  },
  {
   "cell_type": "markdown",
   "metadata": {
    "scrolled": true
   },
   "source": [
    "### Definizione delle funzioni di pre-processing"
   ]
  },
  {
   "cell_type": "code",
   "execution_count": 44,
   "metadata": {},
   "outputs": [],
   "source": [
    "'''\n",
    "Operazioni sulle colonne da effettuare\n",
    "\n",
    "    - eliminazione : e sostituzione con NaN\n",
    "    - x/100 \n",
    "    - /1000000 e arrotondato a 6 cifre\n",
    "    - x - 1\n",
    "    - 1 - x \n",
    "\n",
    "'''\n",
    "\n",
    "def prep_1(value): return str(value).replace(':', '')\n",
    "\n",
    "def prep_2(value): \n",
    "    try:\n",
    "        if value != '': \n",
    "            return float(value)/100\n",
    "        else:\n",
    "            return np.nan\n",
    "    except:\n",
    "        print(value)\n",
    "\n",
    "def prep_3(value): return round(float(value)/1000000,6)\n",
    "\n",
    "def prep_4(value): return (value - 1) \n",
    "\n",
    "def prep_5(value): return (1 - value)\n"
   ]
  },
  {
   "cell_type": "markdown",
   "metadata": {},
   "source": [
    "Il dizionario qui sotto definito servirà per applicare ad ogni indicatore tutte le funzioni di pre-processing necessarie all'interno di un ciclo, senza doverle applicare una alla volta"
   ]
  },
  {
   "cell_type": "code",
   "execution_count": 45,
   "metadata": {},
   "outputs": [],
   "source": [
    "col_func_apply = {'dmc': [prep_1, prep_2], #da normalizzare\n",
    "                  'drop_rate' : [prep_1, prep_2], \n",
    "                  'dwelling_condition' : [prep_1, prep_2, prep_5], \n",
    "                  'edu_0_2_18_24' : [prep_1, prep_2], \n",
    "                  'edu_0_2_25_34': [prep_1, prep_2], \n",
    "                  'edu_3_4_18_24': [prep_1, prep_2], \n",
    "                  'edu_3_4_25_34': [prep_1, prep_2], \n",
    "                  'edu_5_8_18_24': [prep_1, prep_2], \n",
    "                  'edu_5_8_25_34': [prep_1, prep_2], \n",
    "                  'edu_pre_scuola': [prep_1, prep_2], \n",
    "                  'fixed_broadband_subs': [prep_1, prep_2], \n",
    "                  'fixed_telephone_subs': [prep_1, prep_2],\n",
    "                  'ghg_emissions': [prep_1],   # da normalizzare \n",
    "                  'home_warm': [prep_1, prep_2, prep_5], \n",
    "                  'internet_use': [prep_1, prep_2], \n",
    "                  'killed_at_work': [prep_1, prep_3, prep_5], \n",
    "                  'mobile_subs': [prep_1, prep_2, prep_4], \n",
    "                  'poverty': [prep_1, prep_2, prep_5], \n",
    "                  'rd_expenditure': [prep_1, prep_2], \n",
    "                  'real_gdp_pro_capite': [prep_1], #da normalizzare\n",
    "                  'unemployment_rate': [prep_1, prep_2, prep_5], \n",
    "                  'young_people_not_employed': [prep_1, prep_2, prep_5],\n",
    "                  'population' : [prep_1]}\n"
   ]
  },
  {
   "cell_type": "markdown",
   "metadata": {},
   "source": [
    "### Applicazione delle funzioni di pre-processing"
   ]
  },
  {
   "cell_type": "code",
   "execution_count": 46,
   "metadata": {
    "scrolled": false
   },
   "outputs": [],
   "source": [
    "for sdg in sdg_tables_cropped:\n",
    "    for table in sdg_tables_cropped[sdg]:\n",
    "        for k in table.keys():\n",
    "            for anno in anni[1:]:\n",
    "                for f in col_func_apply[k]:\n",
    "                    table[k][anno] = table[k][anno].apply(f)"
   ]
  },
  {
   "cell_type": "code",
   "execution_count": 48,
   "metadata": {
    "scrolled": true
   },
   "outputs": [],
   "source": [
    "#normalizzazione colonne\n",
    "to_norm = ['dmc','ghg_emissions','real_gdp_pro_capite']\n",
    "for sdg in sdg_tables_cropped:\n",
    "    for table in sdg_tables_cropped[sdg]:\n",
    "        for k in table.keys():\n",
    "            if (k in to_norm):\n",
    "                for col in table[k].columns[1:]:\n",
    "                    min_max_scaler = MinMaxScaler()\n",
    "                    scaled = min_max_scaler.fit_transform(table[k][col].values.astype(float).reshape(-1, 1))\n",
    "                    table[k].loc[:,col] = scaled\n",
    "                    if k == 'ghg_emissions':\n",
    "                        table[k].loc[:,col] = table[k][col].apply(lambda x: 1 - x)\n",
    "                  "
   ]
  },
  {
   "cell_type": "markdown",
   "metadata": {},
   "source": [
    "### Creazione delle tabelle per anno"
   ]
  },
  {
   "cell_type": "code",
   "execution_count": 49,
   "metadata": {
    "scrolled": true
   },
   "outputs": [],
   "source": [
    "sdg_per_anni = {}\n",
    "for anno in anni[1:]:\n",
    "    sdg_anno = pd.DataFrame(data = paesi, columns = ['country'])\n",
    "    for sdg in sdg_tables_cropped:\n",
    "        for table in sdg_tables_cropped[sdg]:\n",
    "            for k in table.keys():\n",
    "                sdg_anno[k] = table[k][anno].astype(float)\n",
    "        sdg_per_anni[anno] = sdg_anno"
   ]
  },
  {
   "cell_type": "markdown",
   "metadata": {},
   "source": [
    "### Calcolo dei missing value in EU 28 con la media pesata"
   ]
  },
  {
   "cell_type": "code",
   "execution_count": 50,
   "metadata": {
    "scrolled": false
   },
   "outputs": [],
   "source": [
    "for anno in sdg_per_anni.keys():\n",
    "    population = sdg_per_anni[anno][sdg_per_anni[anno]['country'] != 'EU (28 countries)']['population']\n",
    "    sum_p = population.sum()\n",
    "    for col in sdg_per_anni[anno].columns:\n",
    "        if pd.isna(sdg_per_anni[anno].loc[6,col]):\n",
    "            value = sdg_per_anni[anno][sdg_per_anni[anno]['country'] != 'EU (28 countries)'][col]\n",
    "            media_eu = (value * population).sum() / sum_p\n",
    "            sdg_per_anni[anno].loc[6,col] = round(media_eu,4)"
   ]
  },
  {
   "cell_type": "markdown",
   "metadata": {},
   "source": [
    "### Scrittura delle tabelle per anno"
   ]
  },
  {
   "cell_type": "code",
   "execution_count": 30,
   "metadata": {
    "scrolled": true
   },
   "outputs": [],
   "source": [
    "save_path = os.getcwd() + \"\\\\final_table\\\\\"\n",
    "os.mkdir(save_path)\n",
    "for anno in sdg_per_anni.keys():\n",
    "    table_name = \"data_\" + anno + \".csv\"\n",
    "    sdg_per_anni[anno].to_csv(join(save_path,table_name), encoding='utf-8', sep = ',', header = True, index = 'False')"
   ]
  }
 ],
 "metadata": {
  "kernelspec": {
   "display_name": "Python 3",
   "language": "python",
   "name": "python3"
  },
  "language_info": {
   "codemirror_mode": {
    "name": "ipython",
    "version": 3
   },
   "file_extension": ".py",
   "mimetype": "text/x-python",
   "name": "python",
   "nbconvert_exporter": "python",
   "pygments_lexer": "ipython3",
   "version": "3.7.1"
  }
 },
 "nbformat": 4,
 "nbformat_minor": 2
}
